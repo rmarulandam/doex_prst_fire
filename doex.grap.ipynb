{
 "cells": [
  {
   "cell_type": "code",
   "execution_count": 1,
   "metadata": {},
   "outputs": [
    {
     "data": {
      "text/plain": [
       "'./doe_thermal_runaway_batteries_final.png'"
      ]
     },
     "execution_count": 1,
     "metadata": {},
     "output_type": "execute_result"
    }
   ],
   "source": [
    "from graphviz import Digraph\n",
    "\n",
    "# Create a new Digraph object to include a bigger box around the combinations section as well\n",
    "dot_final = Digraph(comment='Design of Experiments - Thermal Runaway in Batteries')\n",
    "\n",
    "# Subgraph for the bigger box (represents the planning section)\n",
    "with dot_final.subgraph(name='cluster_0') as c:\n",
    "    c.attr(label='Planning the Experiment', style='dashed')\n",
    "    c.node('T', 'Temperatures\\n(Cold, Hot)', shape='box')\n",
    "    c.node('C', 'Charging Speeds\\n(Slow, Medium, Fast)', shape='box')\n",
    "    c.node('B', 'Battery Sizes\\n(Small, Medium, Large)', shape='box')\n",
    "\n",
    "# Subgraph for the bigger box around the combinations (Running the Experiment)\n",
    "with dot_final.subgraph(name='cluster_1') as c2:\n",
    "    c2.attr(label='Running the Experiment', style='dashed')\n",
    "    c2.node('Ex1', 'Combination 1: \\nSmall Battery, Room Temp, Medium Speed', shape='box')\n",
    "    c2.node('Ex2', 'Combination 2: \\nLarge Battery, Hot Temp, Fast Speed', shape='box')\n",
    "\n",
    "# Connections from Planning to Combinations\n",
    "dot_final.edge('T', 'Ex1')\n",
    "dot_final.edge('C', 'Ex1')\n",
    "dot_final.edge('B', 'Ex1')\n",
    "\n",
    "dot_final.edge('T', 'Ex2')\n",
    "dot_final.edge('C', 'Ex2')\n",
    "dot_final.edge('B', 'Ex2')\n",
    "\n",
    "# Analyzing section\n",
    "dot_final.node('A', 'Analyzing Results:\\nHigh Temp + Fast Charging = More Risk of thermal runaway', shape='box')\n",
    "\n",
    "# Flow to analyzing\n",
    "dot_final.edge('Ex1', 'A')\n",
    "dot_final.edge('Ex2', 'A')\n",
    "\n",
    "# Render and display the updated diagram\n",
    "dot_final.render('./doe_thermal_runaway_batteries_final', format='png')\n",
    "'./doe_thermal_runaway_batteries_final.png'"
   ]
  },
  {
   "cell_type": "code",
   "execution_count": null,
   "metadata": {},
   "outputs": [],
   "source": [
    "# Modify the graph to display the entire graphic from left to right in a horizontal way\n",
    "full_factorial_horizontal = Digraph(comment='Full Factorial Design - Thermal Runaway in Batteries')\n",
    "\n",
    "# Subgraph for the bigger box (Planning section as before)\n",
    "with full_factorial_horizontal.subgraph(name='cluster_0') as c:\n",
    "    c.attr(label='Planning the Experiment', style='dashed')\n",
    "    c.node('T', 'Temperatures\\n(Cold, Room, Hot)', shape='box')\n",
    "    c.node('C', 'Charging Speeds\\n(Slow, Medium, Fast)', shape='box')\n",
    "    c.node('B', 'Battery Sizes\\n(Small, Medium, Large)', shape='box')\n",
    "\n",
    "# Adding nodes for all combinations (arranged horizontally)\n",
    "for i, (size, temp, speed) in enumerate(combinations):\n",
    "    full_factorial_horizontal.node(f'Comb{i}', f'{size} Battery, {temp} Temp, {speed} Speed', shape='box')\n",
    "\n",
    "# Connecting the planning section to the combinations\n",
    "for i in range(len(combinations)):\n",
    "    full_factorial_horizontal.edge('T', f'Comb{i}')\n",
    "    full_factorial_horizontal.edge('C', f'Comb{i}')\n",
    "    full_factorial_horizontal.edge('B', f'Comb{i}')\n",
    "\n",
    "# Set the rank direction to left-to-right for horizontal arrangement\n",
    "full_factorial_horizontal.attr(rankdir='LR')\n",
    "\n",
    "# Render and display the updated full factorial diagram\n",
    "full_factorial_horizontal.render('/mnt/data/full_factorial_thermal_runaway_batteries_horizontal', format='png')\n",
    "'/mnt/data/full_factorial_thermal_runaway_batteries_horizontal.png'"
   ]
  }
 ],
 "metadata": {
  "kernelspec": {
   "display_name": "envi-doex",
   "language": "python",
   "name": "python3"
  },
  "language_info": {
   "codemirror_mode": {
    "name": "ipython",
    "version": 3
   },
   "file_extension": ".py",
   "mimetype": "text/x-python",
   "name": "python",
   "nbconvert_exporter": "python",
   "pygments_lexer": "ipython3",
   "version": "3.12.7"
  }
 },
 "nbformat": 4,
 "nbformat_minor": 2
}
